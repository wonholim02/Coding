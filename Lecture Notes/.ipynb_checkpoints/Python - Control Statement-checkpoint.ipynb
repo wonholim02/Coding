{
 "cells": [
  {
   "cell_type": "markdown",
   "metadata": {},
   "source": [
    "# Python - Control Statement"
   ]
  },
  {
   "cell_type": "code",
   "execution_count": 3,
   "metadata": {},
   "outputs": [
    {
     "name": "stdout",
     "output_type": "stream",
     "text": [
      "False\n"
     ]
    }
   ],
   "source": [
    "#if Statement\n",
    "a = 1\n",
    "print(a == 2)\n",
    "if(False) :\n",
    "        print(1)\n",
    "print(2)"
   ]
  },
  {
   "cell_type": "code",
   "execution_count": 10,
   "metadata": {
    "scrolled": true
   },
   "outputs": [
    {
     "name": "stdout",
     "output_type": "stream",
     "text": [
      "1\n",
      "2\n"
     ]
    }
   ],
   "source": [
    "#Case using ; in Python\n",
    "print(1);print(2)"
   ]
  },
  {
   "cell_type": "code",
   "execution_count": 13,
   "metadata": {
    "scrolled": true
   },
   "outputs": [
    {
     "name": "stdout",
     "output_type": "stream",
     "text": [
      "3\n"
     ]
    }
   ],
   "source": [
    "if(a==2):\n",
    "    print(a)\n",
    "elif(a==3):\n",
    "    print('d')\n",
    "else:\n",
    "    print(3)"
   ]
  },
  {
   "cell_type": "code",
   "execution_count": 1,
   "metadata": {},
   "outputs": [
    {
     "name": "stdout",
     "output_type": "stream",
     "text": [
      "93\n",
      "A\n"
     ]
    }
   ],
   "source": [
    "grade = ''\n",
    "K = input()\n",
    "Korean = int(K)\n",
    "if(Korean >= 90):\n",
    "    if(Korean >= 95):\n",
    "        grade = 'A+'\n",
    "    grade = 'A'\n",
    "elif(90 > Korean >= 80):\n",
    "    if(Korean >= 85):\n",
    "        grade = 'B+'\n",
    "    grade = 'B'\n",
    "elif(80 > Korean >= 70):\n",
    "    if(Korean >= 75):\n",
    "        grade = 'C+'\n",
    "    grade = 'C'\n",
    "elif(70 > Korean >= 60):\n",
    "    if(Korean >= 65):\n",
    "        grade = 'D+'\n",
    "    grade = 'D'\n",
    "else:\n",
    "    grade = 'F'\n",
    "print(grade)"
   ]
  },
  {
   "cell_type": "code",
   "execution_count": null,
   "metadata": {},
   "outputs": [],
   "source": []
  }
 ],
 "metadata": {
  "kernelspec": {
   "display_name": "Python 3",
   "language": "python",
   "name": "python3"
  },
  "language_info": {
   "codemirror_mode": {
    "name": "ipython",
    "version": 3
   },
   "file_extension": ".py",
   "mimetype": "text/x-python",
   "name": "python",
   "nbconvert_exporter": "python",
   "pygments_lexer": "ipython3",
   "version": "3.7.4"
  }
 },
 "nbformat": 4,
 "nbformat_minor": 2
}
