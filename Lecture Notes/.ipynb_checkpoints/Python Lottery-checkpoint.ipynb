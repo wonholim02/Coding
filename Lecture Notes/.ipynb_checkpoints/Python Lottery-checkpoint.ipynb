{
 "cells": [
  {
   "cell_type": "code",
   "execution_count": null,
   "metadata": {},
   "outputs": [],
   "source": [
    "#라이브러리\n",
    "#모듈 .py"
   ]
  },
  {
   "cell_type": "code",
   "execution_count": 2,
   "metadata": {},
   "outputs": [],
   "source": [
    "import keyword"
   ]
  },
  {
   "cell_type": "code",
   "execution_count": 3,
   "metadata": {},
   "outputs": [
    {
     "data": {
      "text/plain": [
       "['False',\n",
       " 'None',\n",
       " 'True',\n",
       " 'and',\n",
       " 'as',\n",
       " 'assert',\n",
       " 'async',\n",
       " 'await',\n",
       " 'break',\n",
       " 'class',\n",
       " 'continue',\n",
       " 'def',\n",
       " 'del',\n",
       " 'elif',\n",
       " 'else',\n",
       " 'except',\n",
       " 'finally',\n",
       " 'for',\n",
       " 'from',\n",
       " 'global',\n",
       " 'if',\n",
       " 'import',\n",
       " 'in',\n",
       " 'is',\n",
       " 'lambda',\n",
       " 'nonlocal',\n",
       " 'not',\n",
       " 'or',\n",
       " 'pass',\n",
       " 'raise',\n",
       " 'return',\n",
       " 'try',\n",
       " 'while',\n",
       " 'with',\n",
       " 'yield']"
      ]
     },
     "execution_count": 3,
     "metadata": {},
     "output_type": "execute_result"
    }
   ],
   "source": [
    "keyword.kwlist"
   ]
  },
  {
   "cell_type": "code",
   "execution_count": 2,
   "metadata": {},
   "outputs": [],
   "source": [
    "import random"
   ]
  },
  {
   "cell_type": "code",
   "execution_count": 5,
   "metadata": {},
   "outputs": [
    {
     "name": "stdout",
     "output_type": "stream",
     "text": [
      "0.8241866115704872\n"
     ]
    }
   ],
   "source": [
    "print(random.random())"
   ]
  },
  {
   "cell_type": "code",
   "execution_count": 6,
   "metadata": {},
   "outputs": [],
   "source": [
    "#1.Lottery maker\n",
    "#1. 1 ~ 45\n",
    "#2. Price:1000, Pick 6 numbers(no redundancy)\n",
    "#3. 6 corrrect = win"
   ]
  },
  {
   "cell_type": "code",
   "execution_count": 30,
   "metadata": {},
   "outputs": [
    {
     "name": "stdout",
     "output_type": "stream",
     "text": [
      "[32, 8, 9, 10, 44, 19]\n"
     ]
    }
   ],
   "source": [
    "numbers = []\n",
    "printing = 1\n",
    "adding = 0\n",
    "s = set()\n",
    "while (len(s) < 6):\n",
    "    s.add((int)(random.random() * 45 + 1))\n",
    "numbers = list(s)\n",
    "print(numbers)"
   ]
  },
  {
   "cell_type": "code",
   "execution_count": 17,
   "metadata": {
    "scrolled": true
   },
   "outputs": [
    {
     "name": "stdout",
     "output_type": "stream",
     "text": [
      "[28, 45, 22, 25, 13, 19]\n"
     ]
    }
   ],
   "source": [
    "numbers = []\n",
    "printing = 1\n",
    "adding = 0\n",
    "check = True\n",
    "\n",
    "numbers.append(int(random.random() * 45 + 1))\n",
    "while (len(numbers) < 6):\n",
    "    check = True\n",
    "    adding = int(random.random() * 45 + 1)\n",
    "    for i in range(0,len(numbers)):\n",
    "        if(numbers[i]==adding):\n",
    "            check = False\n",
    "    if(check == True):\n",
    "        numbers.append(adding)\n",
    "print(numbers)"
   ]
  },
  {
   "cell_type": "code",
   "execution_count": 20,
   "metadata": {},
   "outputs": [
    {
     "name": "stdout",
     "output_type": "stream",
     "text": [
      "[31, 38, 11, 39, 43, 23]\n"
     ]
    }
   ],
   "source": [
    "lotto = []\n",
    "while True:\n",
    "    num = int(random.random()*100)\n",
    "    if(num>0 and num <46):\n",
    "        if(num not in lotto):\n",
    "            lotto.append(num)\n",
    "    if(len(lotto) == 6):\n",
    "        break\n",
    "print(lotto)"
   ]
  },
  {
   "cell_type": "code",
   "execution_count": 21,
   "metadata": {},
   "outputs": [],
   "source": [
    "lotto = random.sample(range(1,46),6)"
   ]
  },
  {
   "cell_type": "code",
   "execution_count": null,
   "metadata": {},
   "outputs": [],
   "source": [
    "#시작\n",
    "#로또번호생성\n",
    "#검사\n",
    "    #번호가 있는가\n",
    "    #yes : 카운트 1 + 다음번호 검사\n",
    "    #no : X\n",
    "# 당첨 카운트 6인가\n",
    "    #yes: 종료 \n",
    "    #no:카운트 및 다시 만들기"
   ]
  }
 ],
 "metadata": {
  "kernelspec": {
   "display_name": "Python 3",
   "language": "python",
   "name": "python3"
  }
 },
 "nbformat": 4,
 "nbformat_minor": 2
}
