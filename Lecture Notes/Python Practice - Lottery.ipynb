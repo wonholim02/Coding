{
 "cells": [
  {
   "cell_type": "code",
   "execution_count": 9,
   "metadata": {},
   "outputs": [],
   "source": [
    "#Library\n",
    "#Module .py"
   ]
  },
  {
   "cell_type": "code",
   "execution_count": 6,
   "metadata": {},
   "outputs": [],
   "source": [
    "#1.Lottery maker\n",
    "#1. 1 ~ 45\n",
    "#2. Price:1000, Pick 6 numbers(no redundancy)\n",
    "#3. 6 corrrect = win"
   ]
  },
  {
   "cell_type": "code",
   "execution_count": 20,
   "metadata": {},
   "outputs": [
    {
     "name": "stdout",
     "output_type": "stream",
     "text": [
      "[31, 38, 11, 39, 43, 23]\n"
     ]
    }
   ],
   "source": [
    "lotto = []\n",
    "while True:\n",
    "    num = int(random.random()*100)\n",
    "    if(num>0 and num <46):\n",
    "        if(num not in lotto):\n",
    "            lotto.append(num)\n",
    "    if(len(lotto) == 6):\n",
    "        break\n",
    "print(lotto)"
   ]
  },
  {
   "cell_type": "code",
   "execution_count": 21,
   "metadata": {},
   "outputs": [],
   "source": [
    "lotto = random.sample(range(1,46),6)"
   ]
  },
  {
   "cell_type": "code",
   "execution_count": 1,
   "metadata": {},
   "outputs": [],
   "source": [
    "#Start\n",
    "#make numbers\n",
    "#check\n",
    "    #whether the number exist\n",
    "    #yes : count 1 + check the next number\n",
    "    #no : X\n",
    "# if the count is 6\n",
    "    #yes: end\n",
    "    #no: count and add another"
   ]
  },
  {
   "cell_type": "code",
   "execution_count": 15,
   "metadata": {
    "scrolled": true
   },
   "outputs": [
    {
     "name": "stdout",
     "output_type": "stream",
     "text": [
      "100000 th trial\n"
     ]
    },
    {
     "ename": "KeyboardInterrupt",
     "evalue": "",
     "output_type": "error",
     "traceback": [
      "\u001b[1;31m---------------------------------------------------------------------------\u001b[0m",
      "\u001b[1;31mKeyboardInterrupt\u001b[0m                         Traceback (most recent call last)",
      "\u001b[1;32m<ipython-input-15-3ed60f89f4ff>\u001b[0m in \u001b[0;36m<module>\u001b[1;34m\u001b[0m\n\u001b[0;32m     20\u001b[0m         \u001b[0madding\u001b[0m \u001b[1;33m=\u001b[0m \u001b[0mint\u001b[0m\u001b[1;33m(\u001b[0m\u001b[0mrandom\u001b[0m\u001b[1;33m.\u001b[0m\u001b[0mrandom\u001b[0m\u001b[1;33m(\u001b[0m\u001b[1;33m)\u001b[0m \u001b[1;33m*\u001b[0m \u001b[1;36m45\u001b[0m \u001b[1;33m+\u001b[0m \u001b[1;36m1\u001b[0m\u001b[1;33m)\u001b[0m\u001b[1;33m\u001b[0m\u001b[1;33m\u001b[0m\u001b[0m\n\u001b[0;32m     21\u001b[0m         \u001b[1;32mfor\u001b[0m \u001b[0mi\u001b[0m \u001b[1;32min\u001b[0m \u001b[0mrange\u001b[0m\u001b[1;33m(\u001b[0m\u001b[1;36m0\u001b[0m\u001b[1;33m,\u001b[0m\u001b[0mlen\u001b[0m\u001b[1;33m(\u001b[0m\u001b[0mnumbers\u001b[0m\u001b[1;33m)\u001b[0m\u001b[1;33m)\u001b[0m\u001b[1;33m:\u001b[0m\u001b[1;33m\u001b[0m\u001b[1;33m\u001b[0m\u001b[0m\n\u001b[1;32m---> 22\u001b[1;33m             \u001b[1;32mif\u001b[0m\u001b[1;33m(\u001b[0m\u001b[0mnumbers\u001b[0m\u001b[1;33m[\u001b[0m\u001b[0mi\u001b[0m\u001b[1;33m]\u001b[0m\u001b[1;33m==\u001b[0m\u001b[0madding\u001b[0m\u001b[1;33m)\u001b[0m\u001b[1;33m:\u001b[0m\u001b[1;33m\u001b[0m\u001b[1;33m\u001b[0m\u001b[0m\n\u001b[0m\u001b[0;32m     23\u001b[0m                 \u001b[0mcheck\u001b[0m \u001b[1;33m=\u001b[0m \u001b[1;32mFalse\u001b[0m\u001b[1;33m\u001b[0m\u001b[1;33m\u001b[0m\u001b[0m\n\u001b[0;32m     24\u001b[0m         \u001b[1;32mif\u001b[0m\u001b[1;33m(\u001b[0m\u001b[0mcheck\u001b[0m \u001b[1;33m==\u001b[0m \u001b[1;32mTrue\u001b[0m\u001b[1;33m)\u001b[0m\u001b[1;33m:\u001b[0m\u001b[1;33m\u001b[0m\u001b[1;33m\u001b[0m\u001b[0m\n",
      "\u001b[1;31mKeyboardInterrupt\u001b[0m: "
     ]
    }
   ],
   "source": [
    "import keyword\n",
    "import random\n",
    "\n",
    "answer = [2,6,8,26,43,45]\n",
    "bonus =  11\n",
    "\n",
    "result = dict()\n",
    "result = {'1':0,'2':0,'3':0,'4':0,'5':0}\n",
    "numbers = []\n",
    "count = 0\n",
    "\n",
    "time = 0\n",
    "a = True\n",
    "\n",
    "while (a == True):\n",
    "    count  = 0\n",
    "    numbers = []\n",
    "    adding = 0\n",
    "    check = True\n",
    "    numbers.append(int(random.random() * 45 + 1))\n",
    "    \n",
    "    while (len(numbers) < 6):\n",
    "        check = True\n",
    "        adding = int(random.random() * 45 + 1)\n",
    "        for i in range(0,len(numbers)):\n",
    "            if(numbers[i]==adding):\n",
    "                check = False\n",
    "        if(check == True):\n",
    "            numbers.append(adding)\n",
    "            \n",
    "    time = time + 1\n",
    "    \n",
    "    for i in range(0,6):\n",
    "        for j in range(0,6):\n",
    "            if(numbers[i] == answer[j]):\n",
    "                count = count + 1  \n",
    "                \n",
    "    if(count == 6):\n",
    "        result['1'] = 1\n",
    "        a= False\n",
    "        \n",
    "    if(count == 5):\n",
    "        go = True \n",
    "        for p in range(0,6):\n",
    "                if(numbers[p] == bonus):\n",
    "                    result['2'] = result['2'] + 1\n",
    "                    go = False\n",
    "        if(go==True):\n",
    "            result['3'] = result['3'] + 1\n",
    "            \n",
    "    if(count == 4):\n",
    "        result['4'] = result['4'] + 1\n",
    "        \n",
    "    if(count == 3):\n",
    "        result['5'] = result['5'] + 1\n",
    "\n",
    "    if time % 100000 == 0:\n",
    "        print(time, \"th trial\" )\n",
    "        \n",
    "print(result)\n",
    "print(time)"
   ]
  }
 ],
 "metadata": {
  "kernelspec": {
   "display_name": "Python 3",
   "language": "python",
   "name": "python3"
  },
  "language_info": {
   "codemirror_mode": {
    "name": "ipython",
    "version": 3
   },
   "file_extension": ".py",
   "mimetype": "text/x-python",
   "name": "python",
   "nbconvert_exporter": "python",
   "pygments_lexer": "ipython3",
   "version": "3.7.4"
  }
 },
 "nbformat": 4,
 "nbformat_minor": 2
}
